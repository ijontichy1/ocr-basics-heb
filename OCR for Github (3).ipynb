{
 "cells": [
  {
   "cell_type": "markdown",
   "id": "87cf2022",
   "metadata": {},
   "source": [
    "<img align=\"right\" src=\"https://ithaka-labs.s3.amazonaws.com/static-files/images/tdm/tdmdocs/CC_BY.png\">"
   ]
  },
  {
   "cell_type": "markdown",
   "id": "7cbc2ee6",
   "metadata": {},
   "source": [
    "<p style=\"text-align: right; direction: rtl; float: right;\">\n",
    "נוצר על ידי <a href = \"http://hannahlangstonjacobs.com/\">חנה ג'ייקובס</a> עבור ה-<a href = \"https://nkelber.github.io/tapi2021/book/intro.html\">Text Analysis Pedagogy Institute 2021</a>.<br>\n",
    "עובד על ידי  <a href = \"http://nkelber.com\">נתן קלבר</a> תחת רשיון <a href = \"https://creativecommons.org/licenses/by/4.0/\"> Creative Commons CC BY.</a><br>\n",
    "עובד ותורגם לעברית על ידי  <a href = \"mailto:odedzarchia@tauex.tau.ac.il\">עודד זרחיה</a> תחת רשיון <a href = \"https://creativecommons.org/licenses/by/4.0/\"> Creative Commons CC BY.</a><br>  \n",
    "לשאלות/הערות/שיפורים, שלח דוא\"ל ל-<a href = \"mailto:odedzarchia@tauex.tau.ac.il\">odedzarchia@tauex.tau.ac.il."
   ]
  },
  {
   "cell_type": "markdown",
   "id": "c591dd96",
   "metadata": {},
   "source": [
    "<p style=\"text-align: right; direction: rtl; float: right;\">\n",
    "<span style=\"font-size:30px\"><b>\n",
    "יסודות זיהוי תווים אופטי (OCR)</span><br><br>\n",
    "מחברות אלו נועדו לתאר כיצד להפוך תמונות ו/או מסמכי PDF לקבצי תמליל פשוט (plaintext) באמצעות מנוע Tesseract לזיהוי תווים אופטי.<br>\n",
    "    <b>מטרות:</b><br>\n",
    "    עד סוף שיעור זה, תלמידים יוכלו:<br>\n",
    "1. להגדיר מהו \"OCR\".<br>\n",
    "2. להסביר את החשיבות של OCR לקריאה וניתוח של טקסטים בעזרת מחשב.<br>\n",
    "3. לבצע פעולות OCR בסיסיות בעזרת פייתון (Python), Tesseract, ומחברות Jupyter."
   ]
  },
  {
   "cell_type": "markdown",
   "id": "d7a97cb0",
   "metadata": {},
   "source": [
    "<p style=\"text-align: right; direction: rtl; float: right;\">\n",
    "<span style=\"font-size:20px\"><b>\n",
    "1. מהו זיהוי תווים אופטי? למה הוא חשוב?</span><br><br>\n",
    "על מנת לחקור טקסט בכלים חישוביים או בכלי עיבוד שפה טבעית (NLP), עלינו לוודא שהטקסט שלנו יהיה בפורמט קריא למכונה, כגון plaintext. בדרך כלל, משמעות הדבר הינה המרת קובץ תמונה (למשל קובץ המסתיים ב-jpg או png) לקובץ טקסט רגיל (txt). הטקסט ניתן לקריאה במכונה אם, למשל, אנו מסוגלים לבחור או להעתיק ולהדביק את התווים המרכיבים אותו (copy+paste).<br>\n",
    "ניתן להמחיש את ההבדל באמצעות תמונה דיגיטלית של המהדורה המודפסת של <em>תל אביב</em>&nbsp;(<em>אלטנוילנד</em>) מאת בנימין זאב הרצל:<br>\n",
    "<img align=\"center\" src=\"http://rosetta.nli.org.il/delivery/DeliveryManagerServlet?dps_func=stream&amp;dps_pid=FL16413181\" style=\"height:614px; width:376px\" /><br>\n",
    "וזאת לעומת <a href=\"https://benyehuda.org/read/7260/read\">גרסת הטקסט שנמצאת בפרויקט בן יהודה</a>. בעוד שאדם יכול לקרוא את הטקסט של התמונה הדיגיטלית, מחשב אינו מסוגל להבין את התווים הבודדים המרכיבים את המילים ואת המילים המרכיבות את הטקסט. בנוסף, לא ניתן להעתיק ולהדביק את הטקסט מן התמונה הדיגיטלית ולערוך אותו ביישומים אחרים כדוגמת מעבד תמלילים.<br>\n",
    "<img align=\"center\" src=\"https://i.ibb.co/cFgZ1W7/pixelated.png\" style=\"height:237px; width:955px\" /><br>\n",
    "למרות שאנו עשויים לראות את התמונה למעלה בתור המילה <code>המשתה</code>, המחשב מבין את האמור לעיל כסדרה של ריבועים, <b>פיקסלים</b>, המכילים מידע לגבי צבע הפיקסל - <em>לא</em> איזה תו להציג. כדי שהמחשב יוכל להתייחס לטקסט זה <em>כטקסט</em>, עלינו להמיר את התמונה למספרים בינאריים באופן הבא:</br>\n",
    "<code>11010111 10010100 11010111 10011110 11010111 10101001 11010111 10101010 11010111 10010100</code><br>\n",
    "שהמחשב יציג לאחר מכן לקוראים אנושיים כמילה <code>המשתה</code>. לאחר מכן נוכל להשתמש במחשב כדי לחפש מופעים של מילה זו, לנתח את תדירותה, דפוסי הופעתה, צירופים (קולוקציה) וכו. אנו יכולים גם לבקש מהמחשב לקרוא את המילים הללו וכל מילה אחרת בעמוד בקול אם נצטרך לשמוע אותן במקום לצפות בהן על מסך.</span></p>"
   ]
  },
  {
   "cell_type": "markdown",
   "id": "9f46d2eb",
   "metadata": {},
   "source": [
    "<p style=\"text-align: right; direction: rtl; float: right;\">\n",
    "<span style=\"font-size:20px\"><b>\n",
    "2. מהו זיהוי תווים אופטי?</span><br><br>\n",
    "זיהוי תווים אופטי, או OCR בלעז (Optical Character Recognition), היא <b>טכנולוגיה להמרת תמונה, טקסט מודפס וכתב יד שנסרקו על ידי סורק, למסמך תמליל ממוחשב.</b><br><br>\n",
    "באופן יותר ספציפי:<br>\n",
    "<blockquote p style=\"text-align: right; direction: rtl; float: right;\">\"שלב מרכזי בתהליך הדיגיטציה של טקסטים, שבו הקובץ הסרוק מפוענח\n",
    "כדי שהמחשב יזהה כהלכה את התווים המופיעים בו (אותיות, מספרים, סימני פיסוק \n",
    "וכו'). ללא פענוח, הסימנים על המסך - שאנחנו, בני האדם, מזהים בנקל כתווים\n",
    "ספציפיים - יוותרו סתומים לגמרי עבור המחשב (זו הסיבה לכך שקובץ טקסט\n",
    "סרוק שלא עבר פענוח אינו מאפשר חיפוש של מילה או מחרוזת ידועה, ואילו קובץ\n",
    "טקסט שעבר פענוח מאפשר חיפוש כזה). שלב זה נעשה באמצעות תוכנה ייעודית\n",
    "המפענחת אוטומטית את התווים, לעתים גם באמצעות שיטות של למידת מכונה, המלווה בבקרה אנושית, חלקית או מלאה.\"\n",
    "<a href = \"https://sheilta.apps.openu.ac.il/pls/dlamdal/lamda.perut?p_katalog=108375049\">אופיר מינץ-מנור, איתי מרינברג-מיליקובסקי, \"מחקר חישובי במדעי הרוח - אסופת מאמרים\"</a></blockquote>\n",
    "\n",
    "<blockquote p style=\"text-align: right; direction: rtl; float: right;\">\n",
    "\"כדי שאפשר יהיה לנתח טקסט בכלים חישוביים, עליו להיות מפוענח כראוי באמצעות שימוש בתוכנות מסחריות או פתוחות לשימוש, בהן כאלה\n",
    "המתמחות בשפות מסוימות (למשל בעברית ובערבית) ואף בפענוח כתב יד (אתגר מורכב הרבה יותר מפענוח של טקסט מודפס). תוכנות כאלה מבוססות כיום על שילוב של מילונים,\n",
    "רשימות מילים ושיטות מתקדמות של למידת מכונה, בצד בקרה אנושית של חוקר או חוקרת. רמת הדיוק של הפענוח תלויה לא רק בתוכנה וביכולותיה, אלא גם באיכות ההדפסה המקורית והסריקה הראשונית:\n",
    "בטקסט שהודפס באיכות גבוהה ונסרק כהלכה, ללא עיוותים, רמת הדיוק של הפענוח בשפות רבות תהיה בדרך כלל גבוהה ביותר.\" \n",
    "    <a href = \"https://sheilta.apps.openu.ac.il/pls/dlamdal/lamda.perut?p_katalog=108375049\">אופיר מינץ-מנור, איתי מרינברג-מיליקובסקי, \"מחקר חישובי במדעי הרוח - אסופת מאמרים\"</a></blockquote> "
   ]
  },
  {
   "cell_type": "markdown",
   "id": "785e1979",
   "metadata": {},
   "source": [
    "<p style=\"text-align: right; direction: rtl; float: right;\">\n",
    "<span style=\"font-size:20px\"><b>\n",
    "3. כלי OCR</span><br><br>\n",
    "גרסאות מתקדמות של Adobe Acrobat מכילות אפשרויות לביצוע זיהוי תווים אופטי. ה-OCR של Acrobat נועד לעזור למשתמשים לערוך קבצי PDF סרוקים או כאלו שנוצרו על ידי אחרים. בנוסף, תכונה זו של Acrobat משמשת לייצוא קבצי טקסט ניתנים לעריכה (MS-Word), או להקראה בקול של הטקסט בתוך קובץ ה-PDF.<br><br>\n",
    "<span style=\"font-size:18px\"><b>3.1 שיקולים מרכזיים בבחירת כלי OCR</span></b><br><br>\n",
    "<div style = \"direction:rtl\">\n",
    "    \n",
    "* [תוכנה מסחרית או פתוחה לשימוש?](#proprietary-or-open)\n",
    "* [מבוססת ממשק משתמש (GUI) או סקריפט?](#gui-or-script)\n",
    "* [סוגי קבצים נתמכים?](#file-types)\n",
    "* [שפות נתמכות?](#languages)\n",
    "* [סוגי כתב (script) נתמכים?](#print-scripts)\n",
    "* [תכונות עִבּוּד קְדָם (preprocessing)?](#preprocessing)\n",
    "* [הערכת דיוק ושגיאות?](#accuracy)\n",
    "    \n",
    "ייתכנו, כמובן, שאלות נוספות שתצטרך להוסיף לרשימה זו, אבל נקודות אלו יסייעו לך להתחיל. כמו כן, ייתכן שתרצה לסדר את השאלות הללו בצורה אחרת, וזאת בהתאם לסדרי העדיפויות של הפרויקט.\n",
    "    </div>"
   ]
  },
  {
   "cell_type": "markdown",
   "id": "c6a6e779",
   "metadata": {},
   "source": [
    "<p style=\"text-align: right; direction: rtl; float: right;\">\n",
    "<span style=\"font-size:14px\"><b>\n",
    "3.1.1 תוכנה מסחרית או פתוחה לשימוש?<a id=\"proprietary-or-open\"></span><br>\n",
    "תוכנה מסחרית, כלומר האם עליך לרכוש רשיון? עליך להכיר את המשאבים העומדים לרשותך או להם אתה זקוק לפני התחלת הפרויקט. ייתכן כי תחליט לעבוד עם תוכנה מסחרית מובילה כדוגמת <a href = \"https://pdf.abbyy.com/pricing/\"> ABBYY FineReader </a>, אשר כוללת ממשק משתמש גרפי ואפשרויות עיבוד תמונה מתקדמות. במידה וכן, עליך לרכוש את התוכנה במחיר של כמה מאות דולרים. אפשרות נוספת העומדת לרשותך היא להשתמש בתוכנה זו <a href = \"https://cenlib.tau.ac.il/Digital-Humanities/?tab=1\"> במעבדה למדעי הרוח הדיגיטליים בספרייה המרכזית ע\"ש סוראסקי</a>, המציעה עמדה אחת עם התוכנה ברישוי מלא. במידה ואין ברשותך את התקציב או שאין ברצונך לעבוד מן המעבדה, ייתכן כי תרצה לעבוד עם תוכנה פתוחה לשימוש.<br>\n",
    "    אף על פי שתוכנה <i> חופשית </i> (free) אינה זהה בהכרח לתוכנת <i> קוד פתוח </i> (<a href = \"https://en.wikipedia.org/wiki/Open_source\">open source</a>) , תוכנת קוד פתוח היא בדרך כלל חופשית לשימוש.<b> בעולמות התוכנה, המושג \"קוד פתוח\" מציין תוכנה שקוד המקור שלה נגיש (זמין לצפייה) וכן חופשי לשימוש, לעריכה  ולהפצה מחודשת לכל.</b> במידה ותרצה גישה לקוד כדי להבין טוב יותר את תהליך ה-OCR, ייתכן ותעדיף להשתמש בכלי OCR בקוד פתוח.\n",
    "    "
   ]
  },
  {
   "cell_type": "markdown",
   "id": "1ab42151",
   "metadata": {},
   "source": [
    "<p style=\"text-align: right; direction: rtl; float: right;\">\n",
    "<span style=\"font-size:14px\"><b>\n",
    "3.1.2 מבוססת ממשק משתמש (GUI) או סקריפט?<a id=\"gui-or-script\"></span><br>\n",
    "במידה ואתם עובדים על פרויקט באופן עצמאי ואין לכם ניסיון בכתיבת קוד (תכנות), ייתכן כי מערכת בעלת ממשק משתמש גרפי המאפשרת לבצע פעולות בקלות של לחיצת כפתור הינה האופציה המועדפת  עבורכם, בייחוד אם עסקינן בקבוצה מצומצמת של מסמכים המודפסים בגופנים מודרנים.<br><br>\n",
    "מצד שני, ייתכן שתרצו ללמוד מעט קוד, בייחוד אם הפרוייקט שלכם מכיל מספר לא מבוטל של מסמכים ו/או מסמכים בעלי מאפיינים חריגים (גופנים, שפה, פריסת עמודים וכו'). במידה וכן, לימוד כיצד להפעיל OCR עם פייתון (Python) מהווה הזדמנות מצויינת. גם אם אתם משתפים פעולה עם מתכנת שייכתוב את רוב הקוד עבור פרויקט ה-OCR, ייתכן שתרצו ללמוד כמה מן המושגים והשלבים הבסיסיים מאחורי תהליך ה-OCR, וזאת כדי להבטיח שתהיה לכם הבנה טובה של שלב זה של הפרויקט."
   ]
  }
 ],
 "metadata": {
  "kernelspec": {
   "display_name": "Python 3",
   "language": "python",
   "name": "python3"
  },
  "language_info": {
   "codemirror_mode": {
    "name": "ipython",
    "version": 3
   },
   "file_extension": ".py",
   "mimetype": "text/x-python",
   "name": "python",
   "nbconvert_exporter": "python",
   "pygments_lexer": "ipython3",
   "version": "3.8.13"
  },
  "toc": {
   "base_numbering": 1,
   "nav_menu": {},
   "number_sections": true,
   "sideBar": true,
   "skip_h1_title": false,
   "title_cell": "Table of Contents",
   "title_sidebar": "Contents",
   "toc_cell": false,
   "toc_position": {},
   "toc_section_display": true,
   "toc_window_display": false
  }
 },
 "nbformat": 4,
 "nbformat_minor": 5
}
