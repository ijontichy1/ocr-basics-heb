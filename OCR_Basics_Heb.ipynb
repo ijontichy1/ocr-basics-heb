 "cells": [
  {
   "cell_type": "markdown",
   "id": "4e809f75",
   "metadata": {},
   "source": [

<img align="right" src="https://ithaka-labs.s3.amazonaws.com/static-files/images/tdm/tdmdocs/CC_BY.png"><br />
<p>
<div style = "direction:rtl">
נוצר על ידי <a href = "http://hannahlangstonjacobs.com/">חנה ג'ייקובס</a> עבור ה-<a href = "https://nkelber.github.io/tapi2021/book/intro.html"> Text Analysis Pedagogy Institute 2021</a>. 
<p>
<div style = "direction:rtl">
עובד על ידי  <a href = "http://nkelber.com">נתן קלבר</a> תחת רשיון <a href = "https://creativecommons.org/licenses/by/4.0/"> Creative Commons CC BY.</a>
<div style = "direction:rtl">
עובד ותורגם לעברית על ידי  <a href = "mailto:odedzarchia@tauex.tau.ac.il">עודד זרחיה</a> תחת רשיון <a href = "https://creativecommons.org/licenses/by/4.0/"> Creative Commons CC BY.</a><br>    
לשאלות/הערות/שיפורים, שלח דוא"ל ל-<a href = "mailto:odedzarchia@tauex.tau.ac.il">odedzarchia@tauex.tau.ac.il.
    
    
                                                                                    

____
