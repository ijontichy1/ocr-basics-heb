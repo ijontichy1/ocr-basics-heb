{
 "cells": [
  {
   "cell_type": "markdown",
   "id": "87cf2022",
   "metadata": {},
   "source": [
    "<img align=\"right\" src=\"https://ithaka-labs.s3.amazonaws.com/static-files/images/tdm/tdmdocs/CC_BY.png\">"
   ]
  },
  {
   "cell_type": "markdown",
   "id": "b35294b3",
   "metadata": {},
   "source": [
    "<p style=\"text-align: right; direction: rtl; float: right;\">\n",
    "נוצר על ידי <a href = \"http://hannahlangstonjacobs.com/\">חנה ג'ייקובס</a> עבור ה-<a href = \"https://nkelber.github.io/tapi2021/book/intro.html\"> Text Analysis Pedagogy Institute 2021</a>.<br>\n",
    "עובד על ידי  <a href = \"http://nkelber.com\">נתן קלבר</a> תחת רשיון <a href = \"https://creativecommons.org/licenses/by/4.0/\"> Creative Commons CC BY.</a><br>\n",
    "עובד ותורגם לעברית על ידי  <a href = \"mailto:odedzarchia@tauex.tau.ac.il\">עודד זרחיה</a> תחת רשיון <a href = \"https://creativecommons.org/licenses/by/4.0/\"> Creative Commons CC BY.</a><br>  \n",
    "לשאלות/הערות/שיפורים, שלח דוא\"ל ל-<a href = \"mailto:odedzarchia@tauex.tau.ac.il\">odedzarchia@tauex.tau.ac.il.\n",
    " \n"
   ]
  },
  {
   "cell_type": "code",
   "execution_count": null,
   "id": "181faf07",
   "metadata": {},
   "outputs": [],
   "source": []
  }
 ],
 "metadata": {
  "kernelspec": {
   "display_name": "Python 3",
   "language": "python",
   "name": "python3"
  },
  "language_info": {
   "codemirror_mode": {
    "name": "ipython",
    "version": 3
   },
   "file_extension": ".py",
   "mimetype": "text/x-python",
   "name": "python",
   "nbconvert_exporter": "python",
   "pygments_lexer": "ipython3",
   "version": "3.8.13"
  },
  "toc": {
   "base_numbering": 1,
   "nav_menu": {},
   "number_sections": true,
   "sideBar": true,
   "skip_h1_title": false,
   "title_cell": "Table of Contents",
   "title_sidebar": "Contents",
   "toc_cell": false,
   "toc_position": {},
   "toc_section_display": true,
   "toc_window_display": false
  }
 },
 "nbformat": 4,
 "nbformat_minor": 5
}
