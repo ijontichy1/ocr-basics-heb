{
 "cells": [
  {
   "cell_type": "markdown",
   "id": "87cf2022",
   "metadata": {},
   "source": [
    "<img align=\"right\" src=\"https://ithaka-labs.s3.amazonaws.com/static-files/images/tdm/tdmdocs/CC_BY.png\"><br />\n",
    "<p>\n",
    "<div style = \"direction:rtl\">\n",
    "נוצר על ידי <a href = \"http://hannahlangstonjacobs.com/\">חנה ג'ייקובס</a> עבור ה-<a href = \"https://nkelber.github.io/tapi2021/book/intro.html\"> Text Analysis Pedagogy Institute 2021</a>. \n",
    "<p>\n",
    "<div style = \"direction:rtl\">\n",
    "עובד על ידי  <a href = \"http://nkelber.com\">נתן קלבר</a> תחת רשיון <a href = \"https://creativecommons.org/licenses/by/4.0/\"> Creative Commons CC BY.</a>\n",
    "<div style = \"direction:rtl\">\n",
    "עובד ותורגם לעברית על ידי  <a href = \"mailto:odedzarchia@tauex.tau.ac.il\">עודד זרחיה</a> תחת רשיון <a href = \"https://creativecommons.org/licenses/by/4.0/\"> Creative Commons CC BY.</a><br>    \n",
    "לשאלות/הערות/שיפורים, שלח דוא\"ל ל-<a href = \"mailto:odedzarchia@tauex.tau.ac.il\">odedzarchia@tauex.tau.ac.il.\n",
    "    \n",
    "    \n",
    "                                                                                    \n",
    "\n",
    "____"
   ]
  },
  {
   "cell_type": "markdown",
   "id": "e53ec8a6",
   "metadata": {},
   "source": [
    "<div style=\"direction:rtl\">\n",
    "<span style=\"font-size:30px\"><b>\n",
    "    יסודות זיהוי תווים אופטי (OCR)</div></b>\n",
    "\n",
    "<div style=\"direction:rtl\"><br>\n",
    "מחברות אלו נועדו לתאר כיצד להפוך תמונות ו/או מסמכי PDF לקבצי תמליל פשוט (plaintext) באמצעות מנוע Tesseract לזיהוי תווים אופטי.\n",
    "\n",
    "\n",
    "<div style=\"direction:rtl\">\n",
    "<b>מטרות</b>:<br>\n",
    "עד סוף שיעור זה, תלמידים יוכלו:<br>\n",
    "1. להגדיר \"OCR\".<br>\n",
    "2. להסביר את החשיבות של OCR לקריאה וניתוח של טקסטים בעזרת מחשב.<br>\n",
    "3. לבצע פעולות OCR בסיסיות בעזרת פייתון (Python), Tesseract, ומחברות Jupyter.\n",
    "\n"
   ]
  },
  {
   "cell_type": "markdown",
   "id": "94b11c14",
   "metadata": {},
   "source": [
    "<div style=\"direction:rtl\"><span style=\"font-size:20px\"><strong>1. מהו זיהוי תווים אופטי? למה הוא חשוב?</strong></span><p></p>\n",
    "\n",
    "<div style=\"direction:rtl\"><span style=\"font-size:14px\">על מנת לחקור טקסט בכלים חישוביים או בכלי עיבוד שפה טבעית (NLP), עלינו לוודא שהטקסט שלנו יהיה בפורמט קריא למכונה, כגון plaintext. בדרך כלל, משמעות הדבר הינה המרת קובץ תמונה (למשל קובץ המסתיים ב-jpg או png) לקובץ טקסט רגיל (txt). הטקסט ניתן לקריאה במכונה אם, למשל, אנו מסוגלים לבחור, להעתיק ולהדביק את התווים המרכיבים אותו (copy+paste).&nbsp;</span></p>\n",
    "\n",
    "<div style=\"direction:rtl\"><span style=\"font-size:14px\">ניתן להמחיש את ההבדל באמצעות תמונה דיגיטלית של המהדורה המודפסת של <em>תל אביב</em>&nbsp;(<em>אלטנוילנד</em>) מאת בנימין זאב הרצל.</span></p>\n",
    "\n",
    "<div style=\"direction:rtl\"><span style=\"font-size:14px\"><img alt=\"\" src=\"http://rosetta.nli.org.il/delivery/DeliveryManagerServlet?dps_func=stream&amp;dps_pid=FL16413181\" style=\"height:614px; width:376px\" /></span></p>\n",
    "\n",
    "<div style=\"direction:rtl\"><span style=\"font-size:14px\">וזאת לעומת <a href=\"https://benyehuda.org/read/7260/read\">גרסת הטקסט שנמצאת בפרויקט בן יהודה</a>. בעוד שאדם יכול לקרוא את הטקסט של התמונה הדיגיטלית, מחשב אינו מסוגל להבין את התווים הבודדים המרכיבים את המילים ואת המילים המרכיבות את הטקסט. בנוסף, לא ניתן להעתיק ולהדביק את הטקסט מן התמונה הדיגיטלית ולערוך אותו ביישומים אחרים כדוגמת מעבד תמלילים.</span></p>\n",
    "\n",
    "<div style=\"direction:rtl\"><span style=\"font-size:14px\"><img alt=\"\" src=\"https://i.ibb.co/cFgZ1W7/pixelated.png\" style=\"height:237px; width:955px\" /></span></p>\n",
    "\n",
    "<div style=\"direction:rtl\"><span style=\"font-size:14px\">למרות שאנו עשויים לראות את התמונה למעלה בתור המילה <span style=\"background-color:#dddddd\">המשתה</span>, המחשב מבין את האמור לעיל כסדרה של ריבועים, <strong>פיקסלים</strong>, המכילים מידע לגבי צבע הפיקסל - <em>לא</em> איזה תו להציג. כדי שהמחשב יוכל להתייחס לטקסט זה <em>כטקסט</em>, עלינו להמיר את התמונה למספרים בינאריים באופן הבא:</span></p>\n",
    "\n",
    "<div style=\"direction:rtl\"><span style=\"font-size:14px\"><span style=\"background-color:#dddddd\">11010111 10010100 11010111 10011110 11010111 10101001 11010111 10101010 11010111 10010100</span></span></p>\n",
    "\n",
    "<div style=\"direction:rtl\"><span style=\"font-size:14px\">...שהמחשב יציג לאחר מכן לקוראים אנושיים כמילה&nbsp;<span style=\"background-color:#dddddd\">המשתה</span>. לאחר מכן נוכל להשתמש במחשב כדי לחפש מופעים של מילה זו, לנתח את תדירותה, דפוסי הופעתה, צירופים (קולוקציה) וכו&#39;. אנו יכולים גם לבקש מהמחשב לקרוא את המילים הללו וכל מילה אחרת בעמוד בקול אם נצטרך לשמוע אותן במקום לצפות בהן על מסך.</span></p>"
   ]
  },
  {
   "cell_type": "markdown",
   "id": "27affc5f",
   "metadata": {},
   "source": [
    "<div style = \"direction:rtl\"><span style=\"font-size:20px\"><b>\n",
    "2. מהו זיהוי תווים אופטי?\n",
    "    </b></span></div>\n",
    "<p>\n",
    "<div style = \"direction:rtl\">\n",
    "זיהוי תווים אופטי, או OCR בלעז (Optical Character Recognition), היא <b>טכנולוגיה להמרת תמונה, טקסט מודפס וכתב יד שנסרקו על ידי סורק, למסמך תמליל ממוחשב.</b>\n",
    "    </div>\n",
    "    <p>\n",
    "<div style = \"direction:rtl\">\n",
    "באופן יותר ספציפי:\n",
    "<blockquote dir = \"rtl\">\n",
    "    \"שלב מרכזי בתהליך הדיגיטציה של טקסטים, שבו הקובץ הסרוק מפוענח\n",
    "כדי שהמחשב יזהה כהלכה את התווים המופיעים בו (אותיות, מספרים, סימני פיסוק \n",
    "וכו'). ללא פענוח, הסימנים על המסך - שאנחנו, בני האדם, מזהים בנקל כתווים\n",
    "ספציפיים - יוותרו סתומים לגמרי עבור המחשב (זו הסיבה לכך שקובץ טקסט\n",
    "סרוק שלא עבר פענוח אינו מאפשר חיפוש של מילה או מחרוזת ידועה, ואילו קובץ\n",
    "טקסט שעבר פענוח מאפשר חיפוש כזה). שלב זה נעשה באמצעות תוכנה ייעודית\n",
    "המפענחת אוטומטית את התווים, לעתים גם באמצעות שיטות של למידת מכונה, המלווה בבקרה אנושית, חלקית או מלאה.\" \n",
    "    <a href = \"https://sheilta.apps.openu.ac.il/pls/dlamdal/lamda.perut?p_katalog=108375049\">אופיר מינץ-מנור, איתי מרינברג-מיליקובסקי, \"מחקר חישובי במדעי הרוח - אסופת מאמרים\"</a></div></blockquote>\n",
    "\n",
    "<blockquote dir = \"rtl\">\n",
    "    \"כדי שאפשר יהיה לנתח טקסט בכלים חישוביים, עליו להיות מפוענח כראוי באמצעות שימוש בתוכנות מסחריות או פתוחות לשימוש, בהן כאלה\n",
    "המתמחות בשפות מסוימות (למשל בעברית ובערבית) ואף בפענוח כתב יד (אתגר מורכב הרבה יותר מפענוח של טקסט מודפס). תוכנות כאלה מבוססות כיום על שילוב של מילונים,\n",
    "רשימות מילים ושיטות מתקדמות של למידת מכונה, בצד בקרה אנושית של חוקר או חוקרת. רמת הדיוק של הפענוח תלויה לא רק בתוכנה וביכולותיה, אלא גם באיכות ההדפסה המקורית והסריקה הראשונית:\n",
    "בטקסט שהודפס באיכות גבוהה ונסרק כהלכה, ללא עיוותים, רמת הדיוק של הפענוח בשפות רבות תהיה בדרך כלל גבוהה ביותר.\" \n",
    "    <a href = \"https://sheilta.apps.openu.ac.il/pls/dlamdal/lamda.perut?p_katalog=108375049\">אופיר מינץ-מנור, איתי מרינברג-מיליקובסקי, \"מחקר חישובי במדעי הרוח - אסופת מאמרים\"</a></div></blockquote>\n"
   ]
  },
  {
   "cell_type": "markdown",
   "id": "bd3990b2",
   "metadata": {
    "scrolled": true
   },
   "source": [
    "<div style = \"direction:rtl\"><span style=\"font-size:20px\"><b>\n",
    "3. כלי OCR\n",
    "    </b></span></div>\n",
    "<p>\n",
    "<div style = \"direction:rtl\">\n",
    "גרסאות מתקדמות של Adobe Acrobat מכילות אפשרויות לביצוע זיהוי תווים אופטי. ה-OCR של Acrobat נועד לעזור למשתמשים לערוך קבצי PDF סרוקים או כאלו שנוצרו על ידי אחרים. בנוסף, תכונה זו של Acrobat משמשת לייצוא קבצי טקסט ניתנים לעריכה (MS-Word), או להקראה בקול של הטקסט בתוך קובץ ה-PDF.\n",
    "</div>\n",
    "<p>\n",
    "<div style = \"direction:rtl\"><span style=\"font-size:18px\"><b>\n",
    "    3.1 שיקולים מרכזיים בבחירת כלי OCR</span>\n",
    "\n",
    "* [תוכנה מסחרית או פתוחה לשימוש?](#proprietary-or-open)\n",
    "* [מבוססת ממשק משתמש (GUI) או סקריפט?](#gui-or-script)\n",
    "* [סוגי קבצים נתמכים?](#file-types)\n",
    "* [שפות נתמכות?](#languages)\n",
    "* [סוגי כתב (script) נתמכים?](#print-scripts)\n",
    "* [תכונות עִבּוּד קְדָם (preprocessing)?](#preprocessing)\n",
    "* [הערכת דיוק ושגיאות?](#accuracy)\n",
    "\n",
    "<div style = \"direction:rtl\">\n",
    "ייתכנו, כמובן, שאלות נוספות שתצטרך להוסיף לרשימה זו, אבל נקודות אלו יסייעו לך להתחיל. כמו כן, ייתכן שתרצה לסדר את השאלות הללו בצורה אחרת, וזאת בהתאם לסדרי העדיפויות של הפרויקט שלך.\n",
    "    "
   ]
  },
  {
   "cell_type": "markdown",
   "id": "351b41e7",
   "metadata": {},
   "source": [
    "<div style = \"direction:rtl\"><span style=\"font-size:14px\"><b>\n",
    "    3.1.1 תוכנה מסחרית או פתוחה לשימוש? <a id=\"proprietary-or-open\"></b></div>\n",
    "\n",
    "<div style = \"direction:rtl\">\n",
    "תוכנה מסחרית, כלומר האם עליך לרכוש רשיון? עליך להכיר את המשאבים העומדים לרשותך או להם אתה זקוק לפני התחלת הפרויקט. ייתכן כי תחליט לעבוד עם תוכנה מסחרית מובילה כדוגמת <a href = \"https://pdf.abbyy.com/pricing/\"> ABBYY FineReader </a>, אשר כוללת ממשק משתמש גרפי ואפשרויות עיבוד תמונה מתקדמות. במידה וכן, עליך לרכוש את התוכנה במחיר של כמה מאות דולרים. אפשרות נוספת העומדת לרשותך היא להשתמש בתוכנה זו <a href = \"https://cenlib.tau.ac.il/Digital-Humanities/?tab=1\"> במעבדה למדעי הרוח הדיגיטליים בספרייה המרכזית ע\"ש סוראסקי</a>, המציעה עמדה אחת עם התוכנה ברישוי מלא. במידה ואין ברשותך את התקציב או שאין ברצונך לעבוד מן המעבדה, ייתכן כי תרצה לעבוד עם תוכנה פתוחה לשימוש.</div> \n",
    "<div style = \"direction:rtl\"><br>\n",
    "    אף על פי שתוכנה <i> חופשית </i> (free) אינה זהה בהכרח לתוכנת <i> קוד פתוח </i> (<a href = \"https://en.wikipedia.org/wiki/Open_source\">open source</a>) , תוכנת קוד פתוח היא בדרך כלל חופשית לשימוש.<b> בעולמות התוכנה, קוד פתוח משמש לציון תוכנה שקוד המקור שלה נגיש (זמין לצפייה) וכן חופשי לשימוש, לעריכת שינויים ולהפצה מחודשת לכל.</b> במידה ותרצה גישה לקוד כדי להבין טוב יותר את תהליך ה-OCR, ייתכן ותעדיף להשתמש בכלי OCR בקוד פתוח. \n",
    "    </div>"
   ]
  },
  {
   "cell_type": "markdown",
   "id": "66bc1e0a",
   "metadata": {},
   "source": [
    "<div style = \"direction:rtl\"><span style=\"font-size:14px\"><b>\n",
    "    3.1.2 מבוססת ממשק משתמש (GUI) או סקריפט? <a id=\"gui-or-script\"></b></div>\n",
    "\n",
    "<div style = \"direction:rtl\">\n",
    "במידה ואתם עובדים על פרויקט באופן עצמאי ואין לכם ניסיון בכתיבת קוד (תכנות), ייתכן כי מערכת בעלת ממשק משתמש גרפי המאפשרת לבצע פעולות בקלות של לחיצת כפתור הינה האופציה המועדפת  עבורכם, בייחוד אם עסקינן בקבוצה מצומצמת של מסמכים המודפסים בגופנים מודרנים. </div><br>\n",
    "<div style = \"direction:rtl\">\n",
    "מצד שני, ייתכן שתרצו ללמוד מעט קוד, בייחוד אם הפרוייקט שלכם מכיל מספר לא מבוטל של מסמכים ו/או מסמכים בעלי מאפיינים חריגים (גופנים, שפה, פריסת עמודים וכו'). במידה וכן, לימוד כיצד להפעיל OCR עם פייתון (Python) מהווה הזדמנות מצויינת. גם אם אתם משתפים פעולה עם מתכנת שייכתוב את רוב הקוד עבור פרויקט ה-OCR, ייתכן שתרצו ללמוד כמה מן המושגים והשלבים הבסיסיים מאחורי תהליך ה-OCR, וזאת כדי להבטיח שתהיה לכם הבנה טובה של שלב זה של הפרויקט.\n",
    "    </div>"
   ]
  },
  {
   "cell_type": "markdown",
   "id": "6ae9648f",
   "metadata": {},
   "source": [
    "<div style = \"direction:rtl\"><span style=\"font-size:14px\"><b>\n",
    "    3.1.3 סוגי קבצים נתמכים? <a id=\"file-types\"></b></div>\n",
    "\n",
    "<div style = \"direction:rtl\">\n",
    "האם כלי ה-OCR עובד רק עם קבצי PDF, או שביכולתו לעבוד עם קבצי תמונה? עם אילו סוגים של קבצים אתם עובדים? שאלות אלו אמנם נשמעות שוליות, אך אם אתם עובדים עם קבצי תמונה, ורכשתם רשיון עבור תוכנת OCR שעובדת רק עם קבצי PDF,לא תוכלו לבצע OCR מבלי להמיר את קבצי התמונה ל-PDF באמצעות כלי נוסף; ייתכן שתהליך המרה זה אף יפגום באיכות הטקסט הסרוק.  \n",
    "    </div>"
   ]
  },
  {
   "cell_type": "markdown",
   "id": "8de36009",
   "metadata": {},
   "source": [
    "<div style = \"direction:rtl\"><span style=\"font-size:14px\"><b>\n",
    "    3.1.4 שפות נתמכות? <a id=\"languages\"></b></div>\n",
    "\n",
    "<div style = \"direction:rtl\">\n",
    "במידה והטקסטים עליהם אתם עובדים אינם באנגלית, בידקו באילו שפות תומכת תוכנת ה-OCR. כיום, רוב תוכנות ה-OCR תומכות במספר רב של שפות, אולם לא כל השפות מזוהות באותה רמה של דיוק. \n",
    "    </div>"
   ]
  },
  {
   "cell_type": "markdown",
   "id": "37bf26db",
   "metadata": {},
   "source": [
    "<div style = \"direction:rtl\"><span style=\"font-size:14px\"><b>\n",
    "    3.1.5 סוגי כתב (script) נתמכים? <a id=\"languages\"></b></div>\n",
    "\n",
    "<div style = \"direction:rtl\">\n",
    "במידה ואתם עובדים עם מסמכים הכתובים בכתב (script) שאינו נפוץ כיום (כתב גותי, כתב סורי וכו'), ייתכן ותאלצו לחפש כלים ספציפיים שיוכלו לסייע לכם, אפילו אם אתם עובדים עם <a href = \"https://www.nli.org.il/he/newspapers/tlgrf/1890/05/16/01/?&srpos=3&e=------189-he-20--1--img-txIN%7ctxTI--------------1\">עיתונים מסוף המאה התשע-עשרה וראשית המאה העשרים שאינם בשפה האנגלית</a>. \n",
    "    </div>"
   ]
  },
  {
   "cell_type": "markdown",
   "id": "647e1e80",
   "metadata": {},
   "source": [
    "<div style = \"direction:rtl\"><span style=\"font-size:14px\"><b>\n",
    "    3.1.6 תכונות עִבּוּד קְדָם (preprocessing)? <a id=\"preprocessing\"></b></div>\n",
    "\n",
    "<div style = \"direction:rtl\">\n",
    "<b>עיבוד קדם הוא מכלול של תהליכי שיפור תמונה הכוללים שיטות שמטרתן לתקן פגמים בתמונה לפני ביצוע OCR.</b> פגמים בתמונה יכולים להיות שונים ומגוונים, וכוללים רעשי רקע, עיוותים גיאומטריים,  הטיה של התמונה, דהייה של הכתב וכו'. בעוד שחלק מכלי ה-OCR מציעים ארגז כלים מסוים לעבוד קדם של תמונות, ייתכן כי תזדקקו לפעולת עבוד קדם ספציפית שתצריך שימוש בכלי אחר. \n",
    "    </div>"
   ]
  },
  {
   "cell_type": "markdown",
   "id": "101d773e",
   "metadata": {},
   "source": [
    "<div style = \"direction:rtl\"><span style=\"font-size:14px\"><b>\n",
    "    3.1.7 הערכת דיוק ושגיאות? <a id=\"accuracy\"></b></div>\n",
    "\n",
    "<div style = \"direction:rtl\">\n",
    "האם הכלי מסוגל לעזור לך להעריך את מידת ההצלחה של התהליך והיכן נמצאו שגיאות שיש לתקנן? האם ישנם כלים המאפשרים הן תיקון שגיאות אוטומטי והן ידני? כיצד תוכלו לדעת אם פלט ה-OCR שקיבלתם הוא באיכות מספקת? \n",
    "    </div>"
   ]
  },
  {
   "cell_type": "markdown",
   "id": "07c39ba0",
   "metadata": {},
   "source": [
    "<div style = \"direction:rtl\"><span style=\"font-size:18px\"><b>\n",
    "    3.2 כלי OCR נפוצים</span>\n",
    "<br>\n",
    "<div style = \"direction:rtl\"><span style=\"font-size:14px\"><b><br>\n",
    "    3.2.1 <a href=\"https://pdf.abbyy.com/\">ABBYY Fine Reader</a></b></div>\n",
    "\n",
    "<div style = \"direction:rtl\">\n",
    "תוכנה מסחרית מובילה לזיהוי תווים אופטי. התוכנה תומכת במעל ל-200 שפות, כולל עברית וערבית (הרשימה המלאה <a href = \"https://help.abbyy.com/en-us/finereader/15/user_guide/supportedlanguages/\">כאן</a>). לתוכנה זו מממשק משתמש גרפי (GUI) הכולל יכולות עבוד קדם תמונה מתקדמות, והיא אף כוללת אפשרות לאימון זיהוי תווים ויצירת תבניות שפה חדשות על ידי המשתמש. בדומה ל- ABBYY ,Tesseract תומכת בפורמטים רבים של קבצים. יחד עם זאת, ABBYY הינה תוכנה מסחרית - לפיכך עליכם לרכוש אותה או להשתמש בזו הנמצאת במעבדה למדעי הרוח הדיגיטליים. \n",
    "</div> \n",
    "<div style = \"direction:rtl\"><span style=\"font-size:14px\"><b><br>\n",
    "    3.2.2 <a href=\"https://www.adobe.com/acrobat.html\">Adobe Acrobat Pro/DC</a></b></div>\n",
    "\n",
    "<div style = \"direction:rtl\">\n",
    "הגרסאות המסחריות של קורא קבצי ה-PDF הנפוץ מאפשרות להמיר קבצי PDF למסמכים חפישים בקלות וביעילות. התוכנות תומכות ב-42 בשפות (הרשימה המלאה <a href = \"https://cenlib.tau.ac.il/sites/cenlib.tau.ac.il/files/media_server/sourasky/hagay_test/DH/adobe_langs.PNG\">כאן</a>). עם סיום תהליך זיהוי התווים האופטי על מסמך המקור מתאפשרת עריכתו ושמירתו בפורמטים אחרים. במעבדה למדעי הרוח הדיגיטליים קיימות שתי עמדות עם רישוי מלא ל-Adobe Acrobat Pro 2017.</div>"
   ]
  },
  {
   "cell_type": "code",
   "execution_count": null,
   "id": "f081c76d",
   "metadata": {},
   "outputs": [],
   "source": []
  }
 ],
 "metadata": {
  "kernelspec": {
   "display_name": "Python 3",
   "language": "python",
   "name": "python3"
  },
  "language_info": {
   "codemirror_mode": {
    "name": "ipython",
    "version": 3
   },
   "file_extension": ".py",
   "mimetype": "text/x-python",
   "name": "python",
   "nbconvert_exporter": "python",
   "pygments_lexer": "ipython3",
   "version": "3.8.13"
  },
  "toc": {
   "base_numbering": 1,
   "nav_menu": {},
   "number_sections": true,
   "sideBar": true,
   "skip_h1_title": false,
   "title_cell": "Table of Contents",
   "title_sidebar": "Contents",
   "toc_cell": false,
   "toc_position": {},
   "toc_section_display": true,
   "toc_window_display": false
  }
 },
 "nbformat": 4,
 "nbformat_minor": 5
}
