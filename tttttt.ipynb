{
 "cells": [
  {
   "cell_type": "markdown",
   "id": "87cf2022",
   "metadata": {},
   "source": [
    "<img align=\"right\" src=\"https://ithaka-labs.s3.amazonaws.com/static-files/images/tdm/tdmdocs/CC_BY.png\">"
   ]
  },
  {
   "cell_type": "markdown",
   "id": "e0babed8",
   "metadata": {},
   "source": [
    "<p style=\"text-align: right; direction: rtl; float: right;\">\n",
    "נוצר על ידי <a href = \"http://hannahlangstonjacobs.com/\">חנה ג'ייקובס</a> עבור ה-<a href = \"https://nkelber.github.io/tapi2021/book/intro.html\">Text Analysis Pedagogy Institute 2021</a>.<br>\n",
    "עובד על ידי  <a href = \"http://nkelber.com\">נתן קלבר</a> תחת רשיון <a href = \"https://creativecommons.org/licenses/by/4.0/\"> Creative Commons CC BY.</a><br>\n",
    "עובד ותורגם לעברית על ידי  <a href = \"mailto:odedzarchia@tauex.tau.ac.il\">עודד זרחיה</a> תחת רשיון <a href = \"https://creativecommons.org/licenses/by/4.0/\"> Creative Commons CC BY.</a><br>  \n",
    "לשאלות/הערות/שיפורים, שלח דוא\"ל ל-<a href = \"mailto:odedzarchia@tauex.tau.ac.il\">odedzarchia@tauex.tau.ac.il.\n",
    " \n"
   ]
  },
  {
   "cell_type": "markdown",
   "id": "177225ba",
   "metadata": {},
   "source": [
    "<p style=\"text-align: right; direction: rtl; float: right;\">\n",
    "<span style=\"font-size:30px\"><b>\n",
    "יסודות זיהוי תווים אופטי (OCR)</span><br><br>\n",
    "מחברות אלו נועדו לתאר כיצד להפוך תמונות ו/או מסמכי PDF לקבצי תמליל פשוט (plaintext) באמצעות מנוע Tesseract לזיהוי תווים אופטי.<br>\n",
    "    <b>מטרות:</b><br>\n",
    "    עד סוף שיעור זה, תלמידים יוכלו:<br>\n",
    "1. להגדיר מהו \"OCR\".<br>\n",
    "2. להסביר את החשיבות של OCR לקריאה וניתוח של טקסטים בעזרת מחשב.<br>\n",
    "3. לבצע פעולות OCR בסיסיות בעזרת פייתון (Python), Tesseract, ומחברות Jupyter."
   ]
  },
  {
   "cell_type": "markdown",
   "id": "117668f5",
   "metadata": {},
   "source": [
    "<p style=\"text-align: right; direction: rtl; float: right;\">\n",
    "<span style=\"font-size:20px\"><b>\n",
    "1. מהו זיהוי תווים אופטי? למה הוא חשוב?</span><br><br>\n",
    "על מנת לחקור טקסט בכלים חישוביים או בכלי עיבוד שפה טבעית (NLP), עלינו לוודא שהטקסט שלנו יהיה בפורמט קריא למכונה, כגון plaintext. בדרך כלל, משמעות הדבר הינה המרת קובץ תמונה (למשל קובץ המסתיים ב-jpg או png) לקובץ טקסט רגיל (txt). הטקסט ניתן לקריאה במכונה אם, למשל, אנו מסוגלים לבחור, להעתיק ולהדביק את התווים המרכיבים אותו (copy+paste).<br>\n",
    "ניתן להמחיש את ההבדל באמצעות תמונה דיגיטלית של המהדורה המודפסת של <em>תל אביב</em>&nbsp;(<em>אלטנוילנד</em>) מאת בנימין זאב הרצל:<br>\n",
    "<img alt=\"\" src=\"http://rosetta.nli.org.il/delivery/DeliveryManagerServlet?dps_func=stream&amp;dps_pid=FL16413181\" style=\"height:614px; width:376px\" />"
   ]
  }
 ],
 "metadata": {
  "kernelspec": {
   "display_name": "Python 3",
   "language": "python",
   "name": "python3"
  },
  "language_info": {
   "codemirror_mode": {
    "name": "ipython",
    "version": 3
   },
   "file_extension": ".py",
   "mimetype": "text/x-python",
   "name": "python",
   "nbconvert_exporter": "python",
   "pygments_lexer": "ipython3",
   "version": "3.8.13"
  },
  "toc": {
   "base_numbering": 1,
   "nav_menu": {},
   "number_sections": true,
   "sideBar": true,
   "skip_h1_title": false,
   "title_cell": "Table of Contents",
   "title_sidebar": "Contents",
   "toc_cell": false,
   "toc_position": {},
   "toc_section_display": true,
   "toc_window_display": false
  }
 },
 "nbformat": 4,
 "nbformat_minor": 5
}
