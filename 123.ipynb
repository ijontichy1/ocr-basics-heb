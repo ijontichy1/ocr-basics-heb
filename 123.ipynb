{
 "cells": [
  {
   "cell_type": "markdown",
   "id": "e53ec8a6",
   "metadata": {},
   "source": [
    "<div style=\"direction:rtl\">\n",
    "<span style=\"font-size:30px\"><b>\n",
    "    יסודות זיהוי תווים אופטי (OCR)</div></b>\n",
    "\n",
    "<div style=\"direction:rtl\"><br>\n",
    "מחברות אלו נועדו לתאר כיצד להפוך תמונות ו/או מסמכי PDF לקבצי תמליל פשוט (plaintext) באמצעות מנוע Tesseract לזיהוי תווים אופטי.\n",
    "\n",
    "\n",
    "<div style=\"direction:rtl\">\n",
    "<b>מטרות</b>:<br>\n",
    "עד סוף שיעור זה, תלמידים יוכלו:<br>\n",
    "1. להגדיר \"OCR\".<br>\n",
    "2. להסביר את החשיבות של OCR לקריאה וניתוח של טקסטים בעזרת מחשב.<br>\n",
    "3. לבצע פעולות OCR בסיסיות בעזרת פייתון (Python), Tesseract, ומחברות Jupyter.\n",
    "\n"
   ]
  },
  {
   "cell_type": "markdown",
   "id": "27affc5f",
   "metadata": {},
   "source": [
    "<div style = \"direction:rtl\"><span style=\"font-size:20px\"><b>\n",
    "2. מהו זיהוי תווים אופטי?\n",
    "    </b></span></div>\n",
    "<p>\n",
    "<div style = \"direction:rtl\">\n",
    "זיהוי תווים אופטי, או OCR בלעז (Optical Character Recognition), היא <b>טכנולוגיה להמרת תמונה, טקסט מודפס וכתב יד שנסרקו על ידי סורק, למסמך תמליל ממוחשב.</b>\n",
    "    </div>\n",
    "    <p>\n",
    "<div style = \"direction:rtl\">\n",
    "באופן יותר ספציפי:\n",
    "<blockquote dir = \"rtl\">\n",
    "    \"שלב מרכזי בתהליך הדיגיטציה של טקסטים, שבו הקובץ הסרוק מפוענח\n",
    "כדי שהמחשב יזהה כהלכה את התווים המופיעים בו (אותיות, מספרים, סימני פיסוק \n",
    "וכו'). ללא פענוח, הסימנים על המסך - שאנחנו, בני האדם, מזהים בנקל כתווים\n",
    "ספציפיים - יוותרו סתומים לגמרי עבור המחשב (זו הסיבה לכך שקובץ טקסט\n",
    "סרוק שלא עבר פענוח אינו מאפשר חיפוש של מילה או מחרוזת ידועה, ואילו קובץ\n",
    "טקסט שעבר פענוח מאפשר חיפוש כזה). שלב זה נעשה באמצעות תוכנה ייעודית\n",
    "המפענחת אוטומטית את התווים, לעתים גם באמצעות שיטות של למידת מכונה, המלווה בבקרה אנושית, חלקית או מלאה.\" \n",
    "    <a href = \"https://sheilta.apps.openu.ac.il/pls/dlamdal/lamda.perut?p_katalog=108375049\">אופיר מינץ-מנור, איתי מרינברג-מיליקובסקי, \"מחקר חישובי במדעי הרוח - אסופת מאמרים\"</a></div></blockquote>\n",
    "\n",
    "<blockquote dir = \"rtl\">\n",
    "    \"כדי שאפשר יהיה לנתח טקסט בכלים חישוביים, עליו להיות מפוענח כראוי באמצעות שימוש בתוכנות מסחריות או פתוחות לשימוש, בהן כאלה\n",
    "המתמחות בשפות מסוימות (למשל בעברית ובערבית) ואף בפענוח כתב יד (אתגר מורכב הרבה יותר מפענוח של טקסט מודפס). תוכנות כאלה מבוססות כיום על שילוב של מילונים,\n",
    "רשימות מילים ושיטות מתקדמות של למידת מכונה, בצד בקרה אנושית של חוקר או חוקרת. רמת הדיוק של הפענוח תלויה לא רק בתוכנה וביכולותיה, אלא גם באיכות ההדפסה המקורית והסריקה הראשונית:\n",
    "בטקסט שהודפס באיכות גבוהה ונסרק כהלכה, ללא עיוותים, רמת הדיוק של הפענוח בשפות רבות תהיה בדרך כלל גבוהה ביותר.\" \n",
    "    <a href = \"https://sheilta.apps.openu.ac.il/pls/dlamdal/lamda.perut?p_katalog=108375049\">אופיר מינץ-מנור, איתי מרינברג-מיליקובסקי, \"מחקר חישובי במדעי הרוח - אסופת מאמרים\"</a></div></blockquote>\n"
   ]
  }
 ],
 "metadata": {
  "kernelspec": {
   "display_name": "Python 3",
   "language": "python",
   "name": "python3"
  },
  "language_info": {
   "codemirror_mode": {
    "name": "ipython",
    "version": 3
   },
   "file_extension": ".py",
   "mimetype": "text/x-python",
   "name": "python",
   "nbconvert_exporter": "python",
   "pygments_lexer": "ipython3",
   "version": "3.8.13"
  },
  "toc": {
   "base_numbering": 1,
   "nav_menu": {},
   "number_sections": true,
   "sideBar": true,
   "skip_h1_title": false,
   "title_cell": "Table of Contents",
   "title_sidebar": "Contents",
   "toc_cell": false,
   "toc_position": {},
   "toc_section_display": true,
   "toc_window_display": false
  }
 },
 "nbformat": 4,
 "nbformat_minor": 5
}
