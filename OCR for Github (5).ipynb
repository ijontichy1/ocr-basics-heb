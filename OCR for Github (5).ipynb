{
 "cells": [
  {
   "cell_type": "markdown",
   "id": "7cbc2ee6",
   "metadata": {
    "direction": "rtl"
   },
   "source": [
    "<img align=\"right\" src=\"https://ithaka-labs.s3.amazonaws.com/static-files/images/tdm/tdmdocs/CC_BY.png\">\n",
    "<br><br>\n",
    "    \n",
    "נוצר על ידי [חנה ג'ייקובס](http://hannahlangstonjacobs.com/) עבור ה-[2021 Text Analysis Pedagogy Institute](https://nkelber.github.io/tapi2021/book/intro.html).\n",
    "\n",
    "עובד על ידי  [נתן קלבר](http://nkelber.com) תחת רשיון [Creative Commons CC BY License](https://creativecommons.org/licenses/by/4.0/).\n",
    "    \n",
    "עובד ותורגם לעברית על ידי  עודד זרחיה תחת רשיון [Creative Commons CC BY License](https://creativecommons.org/licenses/by/4.0/).\n",
    "    \n",
    "לשאלות/הערות/שיפורים, שלח דוא\"ל ל-odedzarchia@tauex.tau.ac.il"
   ]
  },
  {
   "cell_type": "markdown",
   "id": "c591dd96",
   "metadata": {
    "direction": "rtl"
   },
   "source": [
    "# יסודות זיהוי תווים אופטי (OCR)\n",
    "\n",
    "מחברות אלו נועדו לתאר כיצד להפוך תמונות ו/או מסמכי PDF לקבצי תמליל פשוט (plaintext) באמצעות מנוע Tesseract לזיהוי תווים אופטי.\n",
    "\n",
    "**מטרות**:\n",
    "\n",
    "עד סוף שיעור זה, תלמידים יוכלו:\n",
    "1. להגדיר מהו \"OCR\".\n",
    "2. להסביר את החשיבות של OCR לקריאה וניתוח של טקסטים בעזרת מחשב.\n",
    "3. לבצע פעולות OCR בסיסיות בעזרת פייתון (Python), Tesseract, ומחברות Jupyter."
   ]
  },
  {
   "cell_type": "markdown",
   "id": "d7a97cb0",
   "metadata": {
    "direction": "rtl"
   },
   "source": [
    "## מהו זיהוי תווים אופטי? למה הוא חשוב?\n",
    "\n",
    "על מנת לחקור טקסט בכלים חישוביים או בכלי עיבוד שפה טבעית (NLP), עלינו לוודא שהטקסט שלנו יהיה בפורמט קריא למכונה, כגון plaintext. בדרך כלל, משמעות הדבר הינה המרת קובץ תמונה (למשל קובץ המסתיים ב-jpg או png) לקובץ טקסט רגיל (txt). הטקסט ניתן לקריאה במכונה אם, למשל, אנו מסוגלים לבחור או להעתיק ולהדביק את התווים המרכיבים אותו (copy+paste).\n",
    "\n",
    "ניתן להמחיש את ההבדל באמצעות תמונה דיגיטלית של העמוד הראשון מן המהדורה המודפסת של *תל אביב* (*אלטנוילנד*) מאת בנימין זאב הרצל:\n",
    "![An image of the print edition of Tel Aviv by Herzel](https://i.ibb.co/3vPrw8F/Herzel.jpg)\n",
    "\n",
    "\n",
    "וזאת לעומת [גרסת הטקסט שנמצאת בפרויקט בן יהודה](https://benyehuda.org/read/7260/read). בעוד שאדם יכול לקרוא את הטקסט של התמונה הדיגיטלית, מחשב אינו מסוגל להבין את התווים הבודדים המרכיבים את המילים ואת המילים המרכיבות את הטקסט. בנוסף, לא ניתן להעתיק ולהדביק את הטקסט מן התמונה הדיגיטלית ולערוך אותו ביישומים אחרים כדוגמת מעבד תמלילים.\n",
    "\n",
    "![תמונה מפוקסלת של המילה \"המשתה\"](https://i.ibb.co/BrJkS1w/drink.png)\n",
    "\n",
    "\n",
    "למרות שאנו עשויים לראות את התמונה למעלה בתור המילה `המשתה`, המחשב מבין את האמור לעיל כסדרה של ריבועים, **פיקסלים**, המכילים מידע לגבי צבע הפיקסל - *לא* איזה תו להציג. כדי שהמחשב יוכל להתייחס לטקסט זה *כטקסט*, עלינו להמיר את התמונה למספרים בינאריים באופן הבא:\n",
    "\n",
    "`10111010100 10111011110 10111101001 10111101010 10111010100`\n",
    "\n",
    "שהמחשב יציג לאחר מכן לקוראים אנושיים כמילה `המשתה`. לאחר מכן נוכל להשתמש במחשב כדי לחפש מופעים של מילה זו, לנתח את תדירותה, דפוסי הופעתה, צירופים (קולוקציה) וכו. אנו יכולים גם לבקש מהמחשב לקרוא את המילים הללו וכל מילה אחרת בעמוד בקול אם נצטרך לשמוע אותן במקום לצפות בהן על מסך."
   ]
  },
  {
   "cell_type": "markdown",
   "id": "e2db9fc1",
   "metadata": {
    "direction": "rtl"
   },
   "source": [
    "## מהו זיהוי תווים אופטי?\n",
    "\n",
    "זיהוי תווים אופטי, או OCR בלעז (Optical Character Recognition), היא טכנולוגיה להמרת תמונה, טקסט מודפס וכתב יד שנסרקו על ידי סורק, למסמך תמליל ממוחשב.\n",
    "\n",
    "באופן יותר ספציפי:\n",
    "\n",
    ">\"שלב מרכזי בתהליך הדיגיטציה של טקסטים, שבו הקובץ הסרוק מפוענח כדי שהמחשב יזהה כהלכה את התווים המופיעים בו (אותיות, מספרים, סימני פיסוק  וכו'). ללא פענוח, הסימנים על המסך - שאנחנו, בני האדם, מזהים בנקל כתווים ספציפיים - יוותרו סתומים לגמרי עבור המחשב (זו הסיבה לכך שקובץ טקסט סרוק שלא עבר פענוח אינו מאפשר חיפוש של מילה או מחרוזת ידועה, ואילו קובץ טקסט שעבר פענוח מאפשר חיפוש כזה). שלב זה נעשה באמצעות תוכנה ייעודית המפענחת אוטומטית את התווים, לעתים גם באמצעות שיטות של למידת מכונה, המלווה בבקרה אנושית, חלקית או מלאה.\" - ([אופיר מינץ-מנור, איתי מרינברג-מיליקובסקי, \"מחקר חישובי במדעי הרוח - אסופת מאמרים\"](https://sheilta.apps.openu.ac.il/pls/dlamdal/lamda.perut?p_katalog=108375049)).\n",
    "\n",
    ">\"כדי שאפשר יהיה לנתח טקסט בכלים חישוביים, עליו להיות מפוענח כראוי באמצעות שימוש בתוכנות מסחריות או פתוחות לשימוש, בהן כאלה\n",
    "המתמחות בשפות מסוימות (למשל בעברית ובערבית) ואף בפענוח כתב יד (אתגר מורכב הרבה יותר מפענוח של טקסט מודפס). תוכנות כאלה מבוססות כיום על שילוב של מילונים,\n",
    "רשימות מילים ושיטות מתקדמות של למידת מכונה, בצד בקרה אנושית של חוקר או חוקרת. רמת הדיוק של הפענוח תלויה לא רק בתוכנה וביכולותיה, אלא גם באיכות ההדפסה המקורית והסריקה הראשונית: בטקסט שהודפס באיכות גבוהה ונסרק כהלכה, ללא עיוותים, רמת הדיוק של הפענוח בשפות רבות תהיה בדרך כלל גבוהה ביותר.\" - ([אופיר מינץ-מנור, איתי מרינברג-מיליקובסקי, \"מחקר חישובי במדעי הרוח - אסופת מאמרים\"](https://sheilta.apps.openu.ac.il/pls/dlamdal/lamda.perut?p_katalog=108375049)). "
   ]
  },
  {
   "cell_type": "markdown",
   "id": "782cbeef",
   "metadata": {
    "direction": "rtl"
   },
   "source": [
    "## כלי OCR\n",
    "\n",
    "גרסאות מתקדמות של Adobe Acrobat מכילות אפשרויות לביצוע זיהוי תווים אופטי. ה-OCR של Acrobat נועד לעזור למשתמשים לערוך קבצי PDF סרוקים או כאלו שנוצרו על ידי אחרים. בנוסף, תכונה זו של Acrobat משמשת לייצוא קבצי טקסט ניתנים לעריכה (MS-Word), או להקראה בקול של הטקסט בתוך קובץ ה-PDF.\n",
    "\n",
    "### שיקולים מרכזיים בבחירת כלי OCR\n",
    "    \n",
    "* [תוכנה מסחרית או פתוחה לשימוש?](#proprietary-or-open)\n",
    "* [מבוססת ממשק משתמש (GUI) או סקריפט?](#gui-or-script)\n",
    "* [סוגי קבצים נתמכים?](#file-types)\n",
    "* [שפות נתמכות?](#languages)\n",
    "* [סוגי כתב (script) נתמכים?](#print-scripts)\n",
    "* [תכונות עִבּוּד קְדָם (preprocessing)?](#preprocessing)\n",
    "* [הערכת דיוק ושגיאות?](#accuracy)\n",
    "\n",
    "ייתכנו, כמובן, שאלות נוספות שתצטרך להוסיף לרשימה זו, אבל נקודות אלו יסייעו לך להתחיל. כמו כן, ייתכן שתרצה לסדר את השאלות הללו בצורה אחרת, וזאת בהתאם לסדרי העדיפויות של הפרויקט."
   ]
  },
  {
   "cell_type": "markdown",
   "id": "5700ef66",
   "metadata": {
    "direction": "rtl"
   },
   "source": [
    "#### תוכנה מסחרית או פתוחה לשימוש?<a id=\"proprietary-or-open\"></a>\n",
    "\n",
    "תוכנה מסחרית, כלומר האם עליך לרכוש רשיון? עליך להכיר את המשאבים העומדים לרשותך או להם אתה זקוק לפני התחלת הפרויקט. ייתכן כי תחליט לעבוד עם תוכנה מסחרית מובילה כדוגמת [ABBYY FineReader](https://pdf.abbyy.com/pricing/), אשר כוללת ממשק משתמש גרפי ואפשרויות עיבוד תמונה מתקדמות. במידה וכן, עליך לרכוש את התוכנה במחיר של כמה מאות דולרים. אפשרות נוספת העומדת לרשותך היא להשתמש בתוכנה זו [במעבדה למדעי הרוח הדיגיטליים בספרייה המרכזית ע\"ש סוראסקי](https://cenlib.tau.ac.il/Digital-Humanities/?tab=1), המציעה עמדה אחת עם התוכנה ברישוי מלא. במידה ואין ברשותך את התקציב או שאין ברצונך לעבוד מן המעבדה, ייתכן כי תרצה לעבוד עם תוכנה פתוחה לשימוש.\n",
    "\n",
    "אף על פי *שתוכנה  חופשית* (*free software*) אינה זהה בהכרח לתוכנת *קוד פתוח* ([open source](https://he.wikipedia.org/wiki/%D7%A7%D7%95%D7%93_%D7%A4%D7%AA%D7%95%D7%97)), תוכנת קוד פתוח היא בדרך כלל חופשית לשימוש. **בעולמות התוכנה, המושג \"קוד פתוח\" מציין תוכנה שקוד המקור שלה נגיש לצפייה וחופשי לשימוש, לעריכה ולהפצה מחודשת לכל.** במידה ותרצה גישה לקוד כדי להבין טוב יותר את תהליך ה-OCR, ייתכן ותעדיף להשתמש בכלי OCR בקוד פתוח. "
   ]
  },
  {
   "cell_type": "markdown",
   "id": "c408d121",
   "metadata": {
    "direction": "rtl"
   },
   "source": [
    "#### מבוססת ממשק משתמש (GUI) או סקריפט?<a id=\"gui-or-script\"></a>\n",
    "במידה ואתם עובדים על פרויקט באופן עצמאי ואין לכם ניסיון בכתיבת קוד (תכנות), ייתכן כי מערכת בעלת ממשק משתמש גרפי המאפשרת לבצע פעולות בקלות של לחיצת כפתור הינה האופציה המועדפת  עבורכם, בייחוד אם עסקינן בקבוצה מצומצמת של מסמכים המודפסים בגופנים מודרנים.\n",
    "מצד שני, ייתכן שתרצו ללמוד מעט קוד, בייחוד אם הפרוייקט שלכם מכיל מספר לא מבוטל של מסמכים ו/או מסמכים בעלי מאפיינים חריגים (גופנים, שפה, פריסת עמודים וכו'). במידה וכן, לימוד כיצד להפעיל OCR עם פייתון (Python) מהווה הזדמנות מצויינת. גם אם אתם משתפים פעולה עם מתכנת שייכתוב את רוב הקוד עבור פרויקט ה-OCR, ייתכן שתרצו ללמוד כמה מן המושגים והשלבים הבסיסיים מאחורי תהליך ה-OCR, וזאת כדי להבטיח שתהיה לכם הבנה טובה של שלב זה של הפרויקט."
   ]
  },
  {
   "cell_type": "markdown",
   "id": "1564ddfc",
   "metadata": {
    "direction": "rtl"
   },
   "source": [
    "#### סוגי קבצים נתמכים? <a id=\"file-types\"></a>\n",
    "האם כלי ה-OCR עובד רק עם קבצי PDF, או שביכולתו לעבוד עם קבצי תמונה? עם אילו סוגים של קבצים אתם עובדים? שאלות אלו אמנם נשמעות שוליות, אך אם אתם עובדים עם קבצי תמונה, ורכשתם רשיון עבור תוכנת OCR שעובדת רק עם קבצי PDF, לא תוכלו לבצע OCR מבלי להמיר את קבצי התמונה ל-PDF באמצעות כלי נוסף; ייתכן שתהליך המרה זה אף יפגום באיכות הטקסט הסרוק."
   ]
  },
  {
   "cell_type": "markdown",
   "id": "ff050a9e",
   "metadata": {
    "direction": "rtl"
   },
   "source": [
    "#### שפות נתמכות?<a id=\"languages\"></a>\n",
    "במידה והטקסטים עליהם אתם עובדים אינם באנגלית, בידקו באילו שפות תומכת תוכנת ה-OCR. כיום, רוב תוכנות ה-OCR תומכות במספר רב של שפות, אולם לא כל השפות מזוהות באותה רמה של דיוק."
   ]
  },
  {
   "cell_type": "markdown",
   "id": "ff029d42",
   "metadata": {
    "direction": "rtl"
   },
   "source": [
    "#### סוגי כתב (script) נתמכים? <a id=\"print-scripts\"></a>\n",
    "במידה ואתם עובדים עם מסמכים הכתובים בכתב (script) שאינו נפוץ כיום (כתב גותי, כתב סורי וכו'), ייתכן ותאלצו לחפש כלים ספציפיים שיוכלו לסייע לכם, אפילו אם אתם עובדים עם [עיתונים מסוף המאה התשע-עשרה וראשית המאה העשרים שאינם בשפה האנגלית](https://www.nli.org.il/he/newspapers/tlgrf/1890/05/16/01/?&srpos=3&e=------189-he-20--1--img-txIN%7ctxTI--------------1)."
   ]
  },
  {
   "cell_type": "markdown",
   "id": "aef28833",
   "metadata": {
    "direction": "rtl"
   },
   "source": [
    "#### תכונות עִבּוּד קְדָם (preprocessing)? <a id=\"preprocessing\"></a>\n",
    "עיבוד קדם הוא <b>מכלול של תהליכי שיפור תמונה הכוללים שיטות שמטרתן לתקן פגמים בתמונה לפני ביצוע OCR.</b> פגמים בתמונה יכולים להיות שונים ומגוונים, וכוללים רעשי רקע, עיוותים גיאומטריים,  הטיה של התמונה, דהייה של הכתב וכו'. בעוד שחלק מכלי ה-OCR מציעים ארגז כלים מסוים לעבוד קדם של תמונות, ייתכן כי תזדקקו לפעולת עבוד קדם ספציפית שתצריך שימוש בכלי אחר."
   ]
  },
  {
   "cell_type": "markdown",
   "id": "533c26da",
   "metadata": {
    "direction": "rtl"
   },
   "source": [
    "#### הערכת דיוק ושגיאות? <a id=\"accuracy\"><a>\n",
    "האם הכלי מסוגל לעזור לך להעריך את מידת ההצלחה של התהליך והיכן נמצאו שגיאות שיש לתקנן? האם ישנם כלים המאפשרים הן תיקון שגיאות אוטומטי והן ידני? כיצד תוכלו לדעת אם פלט ה-OCR שקיבלתם הוא באיכות מספקת?"
   ]
  },
  {
   "cell_type": "markdown",
   "id": "4aeae3ed",
   "metadata": {
    "direction": "rtl"
   },
   "source": [
    "### כלי OCR נפוצים\n",
    "#### [ABBYY Fine Reader](https://pdf.abbyy.com/)\n",
    "תוכנה מסחרית מובילה לזיהוי תווים אופטי. התוכנה תומכת במעל ל-200 שפות, כולל עברית וערבית ([הרשימה המלאה כאן](https://help.abbyy.com/en-us/finereader/15/user_guide/supportedlanguages/)). לתוכנה זו מממשק משתמש גרפי (GUI) הכולל יכולות עבוד קדם תמונה מתקדמות, והיא אף כוללת אפשרות לאימון זיהוי תווים ויצירת תבניות שפה חדשות על ידי המשתמש. בדומה ל- ABBYY ,Tesseract תומכת בפורמטים רבים של קבצים. יחד עם זאת, ABBYY הינה תוכנה מסחרית - לפיכך עליכם לרכוש אותה או להשתמש בזו הנמצאת במעבדה למדעי הרוח הדיגיטליים.\n",
    "\n",
    "#### [Adobe Acrobat Pro](https://acrobat.adobe.com/us/en/acrobat.html)\n",
    "הגרסאות המסחריות של קורא קבצי ה-PDF הנפוץ מאפשרות להמיר קבצי PDF למסמכים חפישים בקלות וביעילות. התוכנה תומכות ב-42 בשפות ([הרשימה המלאה כאן)](https://cenlib.tau.ac.il/sites/cenlib.tau.ac.il/files/media_server/sourasky/hagay_test/DH/adobe_langs.PNG). עם סיום תהליך זיהוי התווים האופטי על מסמך המקור מתאפשרת עריכתו ושמירתו בפורמטים אחרים. במעבדה למדעי הרוח הדיגיטליים קיימות שתי עמדות עם רישוי מלא ל-Adobe Acrobat Pro 2017.\n",
    "\n",
    "#### [Amazon Textract](https://aws.amazon.com/textract/resources/?blog-posts-cards.sort-by=item.additionalFields.createdDate&blog-posts-cards.sort-order=desc)\n",
    "בדומה ל-Pytesseract, כלי זה של אמזון פועל בסביבת פייתון. יחד עם זאת, זהו כלי מסחרי בעל קוד קנייני. כלומר, Textract הוא \"קופסה שחורה\", ואין באפשרותנו לדעת מה קורה מאחורי הקלעים כאשר אנו משתמשים בו. למתחילים, אמזון מציעה התנסות חינמית (עד 1,000 דפים), ומאפשרת להריץ את קוד ה- Textract שלכם בסביבת הענן של אמזון. במידה ואתם מוכנים ללמוד מעט תכנות או שאתם עובדים עם מתכנת, עלויות השימוש בכלי זה נמוכות משמעותית מרישיון ל-ABBYY. \n",
    "\n",
    "#### [Google Cloud Vision](https://cloud.google.com/vision/docs)\n",
    "בדומה לאמזון, Cloud Vision API (ממשק תכנות יישומים) של גוגל אף הוא כלי מסחרי בעל קוד קנייני, דורש ידע בתכנות וניתן להשתמש בו בענן. ניתן להשתמש בכלי זה גם לביצוע משימות ראייה ממוחשבת כגון זיהוי פנים. גם כלי זה הוא \"קופסה שחורה\", וייתכן שלא נוכל להסביר תוצאות בלתי צפויות שיתקבלו לאחר תהליך ה-OCR.\n",
    "\n",
    "#### [Tesseract](https://tesseract-ocr.github.io/tessdoc/Home.html)\n",
    "מנוע OCR (אוסף של אלגוריתמים ונתוני אימון) שפותח במקור על ידי חברת היולט-פקרד (HP) ומתוחזק כעת על ידי חברת גוגל. Tesseract הוא כלי קוד פתוח שתומך בשפות רבות ובסוגי כתב שונים. בנוסף, מנוע זה מציע אפשרויות שונות להתאמה אישית של פלט ה-OCR. היכולת להוסיף נתוני אימון משלך אף היא מהווה יתרון, אם כי זהו תהליך עתיר משאבים. מתכנתים ניצלו את היותה של Tesseract תוכנה בקוד פתוח, ויצרו מספר כלים המבוססים על מנוע זה (חלקם עם ממשק משתמש).\n",
    "\n",
    "#### [Pytesseract](https://pypi.org/project/pytesseract/)\n",
    "Pytesseract (או Python-tesseract) הוא כלי OCR רב עוצמה שנוצר עבור שפת התכנות פייתון על בסיס Tesseract OCR. כלי זה מסוגל לעבוד עם פורמטים רבים של קבצים ושפות (אנושיות), ובדומה  ל-Tesseract, הוא מבוסס קוד פתוח. הואיל ו-Pytesseract הוא חלק מסביבה תכנותית גדולה יותר, ניתן לשלב אותו עם מגוון חבילות פייתון אחרות כדי לבצע משימות רבות ושונות. יתר על כן, פייתון הינה שפת תכנות פופולרית, בייחוד עבור מתכנתים מתחילים, מה שמאפשר למשתמשים לעבור במהירות מהיסודות של השפה לעבודה עם Pytesseract."
   ]
  },
  {
   "cell_type": "markdown",
   "id": "8b92a026",
   "metadata": {
    "direction": "rtl"
   },
   "source": [
    "## מבוא ל-Tesseract\n",
    "\n",
    "[Tesseract](https://github.com/tesseract-ocr/tesseract) פותח במקור על ידי חברת היולט-פקרד (HP) בין השנים 1994-1985. HP הפכה אותו לקוד פתוח בשנת 2005. גוגל המשיכה את הפיתוח בין השנים 2018-2006. זהו עדיין כלי קוד פתוח בעל [פורום משתמשים פעיל](https://groups.google.com/g/tesseract-ocr?pli=1).\n",
    "\n",
    "מנוע זה תומך במעל ל-100 שפות, כולל עברית וערבית ([הרשימה המלאה כאן](https://tesseract-ocr.github.io/tessdoc/Data-Files-in-different-versions.html)), וניתן להריצו בממשק שורת הפקודה של מערכות הפעלה מסוג Windows, MacOS, ו-Linux. את הפלט המתקבל ניתן לשמור בפורמטים שונים. בנוסף, קיימים מספר [ממשקי משתמש גרפיים](https://tesseract-ocr.github.io/tessdoc/User-Projects-%E2%80%93-3rdParty.html) (צד שלישי).\n",
    "\n",
    "הגרסה האחרונה, Tesseract 5.0, [משלבת בתוכה LSTM (Long Short-Term Memory)](https://en.wikipedia.org/wiki/Long_short-term_memory), רשת נוירונים מלאכותית חוזרת. LSTM הוא קבוצה של אלגוריתמים שמחשבים יכולים להפעיל כדי לעבד כמות גדולה של נתונים, \"לזכור\" את הנתונים האלה ולהחיל את מה שהם \"למדו\" מהנתונים האלה על נתונים אחרים תוך כדי עיבודם.\n",
    "\n",
    "PyTesseract  מוגדר כ\"מעטפת\" (“wrapper”) ל-Tesseract. בפשטות, מעטפת זו מאפשרת לשלב את Tesseract בקלות בשפת פייתון. כלומר, אם אתם כבר עובדים בסביבת פייתון, אין צורך לעזוב אותה כדי לבנות סל נתונים. ניתן אף לשלב את PyTesseract בתוך אפליקציית פייתון ו/או בסיס הקוד שבו אתם מתכננים לבצע שימוש חוזר."
   ]
  },
  {
   "cell_type": "markdown",
   "id": "2e1697b1",
   "metadata": {
    "direction": "rtl"
   },
   "source": [
    "### קבצי קלט\n",
    "\n",
    "על מנת לבצע OCR על קורפוס טקסטואלי, אנו זקוקים לדברים הבאים:\n",
    "\n",
    "- **תיקיית קבצים** אחת המכילה את כל קבצי הקורפוס. אם הקורפוס קטן מספיק (למשל ספר אחד), זה יכול להיות אפילו קובץ בודד (למשל pdf).\n",
    "\n",
    "- על כל קבצי הקורפוס להיות **בפורמט זהה**.\n",
    "\n",
    "- הפורמט הנבחר מחייב **תִּפְעוּלִיּוּת בֵּינִית** (interoperability). כלומר, עליו להיות נגיש לתוכנות ומערכות הפעלה מסוגים שונים.\n",
    "\n",
    "- במסגרת התרגיל שלנו עם פייתון ו-Tesseract, על הקבצים להיות **תמונות**; כלומר כל קובץ יתאים לדף אחד (חד צדדי) של ספר או מסמך.\n",
    "\n",
    "![First page of the Kahan Commission report](https://i.ibb.co/Pgm9dDH/Beirut1.jpg)\n",
    "\n",
    "\n",
    "כדי לשמור על הסדר של קבצי התמונה, כדאי ליצור מבנה קבצים שבו כל ספר/סמך נמצא בתיקייה ייעודית. אזי, כל תיקיה של ספר/מסמך תכיל סדרה של תמונות ממוספרות עבור כל עמוד. "
   ]
  },
  {
   "cell_type": "markdown",
   "id": "b501f694",
   "metadata": {
    "direction": "rtl"
   },
   "source": [
    "### קבצי פלט\n",
    "\n",
    "עבור כל תיקיית קבצים (בין אם jpg, .png. או pdf.), ניצור קובץ טקסט פשוט (txt.) המכיל את הטקסט המלא. פורמט קובץ הטקסט הפשוט הוא פועל הדדי, יציב וניתן לקריאה מלאה במחשב, כלומר הוא יהיה מוכן לביצוע ניתוח חישובי ולאחסון במאגרים ובבסיסי נתונים."
   ]
  },
  {
   "cell_type": "markdown",
   "id": "3ce2f46b",
   "metadata": {
    "direction": "rtl"
   },
   "source": [
    "## יסודות PyTesseract\n",
    "\n",
    "כעת נתאר תהליך OCR בסיסי באמצעות PyTesseract. ספריית PyTesseract מותקנת כברירת מחדל ב-Constellate. כדי לבצע את תהליך ה-OCR מקומית במחשבכם האישי, עליכם להתקין את הן את Tesseract ([היוועצו בתיעוד המתאים למערכת ההפעלה שלכם](https://tesseract-ocr.github.io/tessdoc/Installation.html)), והן את PyTesseract, המעטפת לשימוש ב-Tesseract עם פייתון ([נסו עם](https://pypi.org/project/pytesseract/):`pip install pytesseract`).\n",
    "\n",
    "כאמור, Tesseract משתמש בנתוני אימון לזיהוי תווים. בתא הקוד הבא, נוריד את הנתונים הללו עבור השפה העברית. נתוני אימון עבור שפות נוספות זמינות [Tesseract-OCR](https://github.com/tesseract-ocr/tessdata), ונדון בשימוש בשפות נוספות בהמשך."
   ]
  },
  {
   "cell_type": "code",
   "execution_count": null,
   "id": "cb759851",
   "metadata": {
    "direction": "ltr"
   },
   "outputs": [],
   "source": [
    "# Install Tesseract training data in the Constellate Analytics Lab.\n",
    "# The exclamation runs the command as a terminal command.\n",
    "\n",
    "!wget https://github.com/tesseract-ocr/tessdata/raw/main/heb.traineddata\n",
    "!mv heb.traineddata /usr/share/tesseract-ocr/4.00/tessdata/heb.traineddata"
   ]
  },
  {
   "cell_type": "markdown",
   "id": "021ccb3c",
   "metadata": {
    "direction": "rtl"
   },
   "source": [
    "לבסוף, נוריד שני קבצי תמונה בפורמט jpg. כדגומאות"
   ]
  },
  {
   "cell_type": "code",
   "execution_count": null,
   "id": "7e0f881f",
   "metadata": {
    "scrolled": false
   },
   "outputs": [],
   "source": [
    "# Download the Sample Page Images for this lesson\n",
    "# הורד את JDFג כדוכמא\n",
    "\n",
    "import urllib.request\n",
    "download_urls = [\n",
    "    'https://i.ibb.co/0BQcSLK/Beirut1.jpg',\n",
    "    'https://i.ibb.co/Nx2pmFm/kahan-commission-en.jpg'\n",
    "]\n",
    "\n",
    "for url in download_urls:\n",
    "    urllib.request.urlretrieve(url, '/workspace/constellate-notebooks/data/' + url.rsplit('/', 1)[-1])"
   ]
  },
  {
   "cell_type": "markdown",
   "id": "0d9720fb",
   "metadata": {
    "direction": "rtl"
   },
   "source": [
    "כעת נמיר לטקסט את אחד מקבצי ה-jpg. שלנו. דוגמה זו מגיעה מתוך דוח ועדת החקירה לאירועי סברה ושתילה אשר זמין (ללא OCR) [באתר ארכיון המדינה](https://www.archives.gov.il/archives/Archive/0b07170684ee7f45/File/0b07170688f14e2e)."
   ]
  },
  {
   "cell_type": "code",
   "execution_count": null,
   "id": "c7e6b985",
   "metadata": {},
   "outputs": [],
   "source": [
    "# Import the Image module from the Pillow Library, which will help us access the image.\n",
    "from PIL import Image\n",
    "\n",
    "# Import the pytesseract library, which will run the OCR process.\n",
    "import pytesseract\n",
    "\n",
    "# Open a specific image file, convert the text in the image to computer-readable text (OCR),\n",
    "# and then print the results for us to see here.\n",
    "print(pytesseract.image_to_string(Image.open(\"/workspace/constellate-notebooks/data/Beirut1.jpg\"), lang=\"heb\"))"
   ]
  },
  {
   "cell_type": "markdown",
   "id": "41fa0271",
   "metadata": {
    "direction": "rtl"
   },
   "source": [
    "הבה נפרק את הקוד לעיל למרכיביו הבסיסיים:\n",
    "\n",
    "1. `(\"Image.open(\"/workspace/constellate-notebooks/data/Beirut1.jpg\"), lang=\"heb` - פתח את הקובץ `beirut.jpg` בתיקיית `data/`. קבע את השפה כעברית. הפונקציה `Image.open` מגיעה מספריית עיבוד התמונה של פייתון [(PIL: Python Imaging Library)](https://pillow.readthedocs.io/en/stable/index.html). \n",
    "\n",
    "\n",
    "2. `()pytesseract.image_to_string` - זהה תווים אלפא-נומריים בתמונה והמר אותם לטקסט קריא למחשב באמצעות הפונקצייה `image_to_string`.\n",
    "\n",
    "\n",
    "3. `()print` - הצג את פלט הטקסט."
   ]
  },
  {
   "cell_type": "markdown",
   "id": "f0aa9104",
   "metadata": {
    "direction": "rtl"
   },
   "source": [
    "## אפשרויות Tesseract  \n",
    "\n",
    "Tesseract מציע שני סוגי מצבים (Modes) שבהם נוכל להשתמש כדי להתאים אישית את פלט ה-OCR:\n",
    "1. **OCR Engine Modes** או **OEMs** -  מצבי פעולה הקובעים את סוג האלגוריתם שבו משתמש Tesseract. \n",
    "2. **Page Segmentations Modes** או **PSMs** - קובע כיצד על Tesseract לקרוא את קבצי התמונה. כלומר, כיצד להפריד ולסדר את קטעי הטקסט בתוך קובץ התמונה.\n",
    "\n",
    "### OCR Engine Modes (OEMs)\n",
    "\n",
    "הפעילו את הפקודה הבאה כדי לצפות ברשימת האלגוריתמים הזמינים עבור Tesseract."
   ]
  },
  {
   "cell_type": "code",
   "execution_count": null,
   "id": "0d58f58a",
   "metadata": {},
   "outputs": [],
   "source": [
    "# List the Tesseract OCR Engine Modes (OEMs)\n",
    "# Run a terminal command using an exclamation point\n",
    "!tesseract --help-oem"
   ]
  },
  {
   "cell_type": "markdown",
   "id": "bae225e3",
   "metadata": {
    "direction": "rtl"
   },
   "source": [
    "להלן הסבר מפורט יותר של מצבי הפעולה(OEMs) של Tesseract :\n",
    "\n",
    "- *0 - Legacy engine only.* - מצב פעולה זה מפעיל את אלגוריתם המקור של Tesseract.\n",
    "  \n",
    "- *1 - Neural nets LSTM engine only.* - מפעיל את אלגוריתם ה-LTSM בלבד.\n",
    "  \n",
    "- *2 - Legacy + LSTM engines* - גם אלגוריתם המקור וגם ה-LTSM מופעלים.\n",
    "\n",
    "- *3 - Default, based on what is available.* מצב הפעולה ייבחר על סמך על הקונפיגורציה (שפה, PSM) שהזנו. במידה ולא כלול מידע על הקונפיגרציה, Tesseract יופעל במצב זה כברירת מחדל. "
   ]
  },
  {
   "cell_type": "markdown",
   "id": "b8c9df7e",
   "metadata": {
    "direction": "rtl"
   },
   "source": [
    "___\n",
    "<h3 style=\"color:red; display:inline\">נסו זאת! &lt; / &gt; </h3>\n",
    "\n",
    "הפעל את הסקריפט הבא. החלף בין מצבי הפעולה של Tesseract באמצעות החלפת המספר בשורה הראשונה. \n",
    "___"
   ]
  },
  {
   "cell_type": "code",
   "execution_count": null,
   "id": "c240a0e7",
   "metadata": {},
   "outputs": [],
   "source": [
    "# Change the OEM number below to try\n",
    "# running another OCR mode.\n",
    "# 3 is the default setting.\n",
    "custom_oem_config = r'--oem 0'\n",
    "\n",
    "# Open a specific image file, convert the text in the image to computer-readable text (OCR)\n",
    "# following the language and mode configuration we specify,\n",
    "# and then print the results for us to see here.\n",
    "print(pytesseract.image_to_string(Image.open(\"/workspace/constellate-notebooks/data/Beirut1.jpg\"), lang=\"heb\", config=custom_oem_config))"
   ]
  },
  {
   "cell_type": "markdown",
   "id": "65d3b4a6",
   "metadata": {
    "direction": "rtl"
   },
   "source": [
    "### Page Segmentation Modes (PSM)\n",
    "\n",
    "הפעילו את הפקודה הבאה כדי להציג את אפשרויות קריאת התמונה (PSMs) הזמינות עבור Tesseract."
   ]
  },
  {
   "cell_type": "code",
   "execution_count": null,
   "id": "541b00b3",
   "metadata": {},
   "outputs": [],
   "source": [
    "!tesseract --help-psm"
   ]
  },
  {
   "cell_type": "markdown",
   "id": "d5acf02f",
   "metadata": {
    "direction": "rtl"
   },
   "source": [
    "כברירת מחדל (אפשרות 3), Tesseract לא ינסה לזהות את הכתב או את כיוון הטקסט. הוא ינסה לזהות מקטעים של טקסט ולהפרידם אחד מן השני.  "
   ]
  },
  {
   "cell_type": "code",
   "execution_count": null,
   "id": "b2725f81",
   "metadata": {},
   "outputs": [],
   "source": [
    "# Change the PSM number below to try\n",
    "# running another page segmentation mode.\n",
    "# 3 is the default setting.\n",
    "custom_psm_config = r'--psm 6'\n",
    "\n",
    "# Open a specific image file, convert the text in the image to computer-readable text (OCR)\n",
    "# following the language and mode configuration we specify,\n",
    "# and then print the results for us to see here.\n",
    "print(pytesseract.image_to_string(Image.open(\"/workspace/constellate-notebooks/data/Beirut1.jpg\"), lang=\"heb\", config=custom_psm_config))"
   ]
  },
  {
   "cell_type": "markdown",
   "id": "80e630c5",
   "metadata": {
    "direction": "rtl"
   },
   "source": [
    "### שמירת מחרוזות OCR למסמכים (.txt, .html, .pdf, .tsv)\n",
    "\n",
    "בנוסף ל-txt, Tesseract יכול להמיר תמונות שעברו OCR ל-[hOCR או HTML](https://en.wikipedia.org/wiki/HOCR), קובץ PDF חפיש, וקובץ TSV.\n",
    "\n",
    "___\n",
    "<h3 style=\"color:red; display:inline\">נסו זאת! &lt; / &gt; </h3>\n",
    "\n",
    "הסקריפטים למטה מייצאים את הטקסט לפורמטים שונים של קבצים. נסו כל אחד ופעלו בהתאם להוראות המתקבלות.\n",
    "___"
   ]
  },
  {
   "cell_type": "code",
   "execution_count": null,
   "id": "f0ce3685",
   "metadata": {},
   "outputs": [],
   "source": [
    "# Output to text file (.txt)\n",
    "# File location\n",
    "# You can change the filename in quotes below to OCR a different file.\n",
    "file = \"/workspace/constellate-notebooks/data/Beirut1.jpg\"\n",
    "\n",
    "# Open the file named above. \n",
    "# While it's open, do several things:\n",
    "with open(file, 'rb') as f:\n",
    "        \n",
    "    # Read the file using PIL's Image module.\n",
    "    img = Image.open(f)\n",
    "    \n",
    "    # Run OCR on the open file.\n",
    "    ocrText = pytesseract.image_to_string(img, lang=\"heb\")\n",
    "        \n",
    "# Get a file name--without the extension-- \n",
    "# to use when we name the output file.\n",
    "    \n",
    "fileName = file.rsplit('/', 1)[-1]\n",
    "fileName = fileName.rsplit('.', 1)[0]\n",
    "\n",
    "# The image file above will be closed before moving on to this line.\n",
    "# The OCR'ed text has been pulled from the image and stored in\n",
    "# a Python variable for us to continue to use.\n",
    "\n",
    "# Create and open a new text file, name it to match its input file,\n",
    "# declare its encoding to be UTF-8 so that it correctly outputs\n",
    "# non-ASCII characters.\n",
    "with open(f'/workspace/constellate-notebooks/data/{fileName}.txt', \"w\", encoding=\"utf-8\") as outFile:\n",
    "        \n",
    "    # and write the OCR'ed text to the file.\n",
    "    outFile.write(ocrText)\n",
    "\n",
    "# Display a message to let us know the file has been created\n",
    "# and the script successfully completed.\n",
    "print(fileName, \"text file successfully created.\")"
   ]
  },
  {
   "cell_type": "markdown",
   "id": "21a131f6",
   "metadata": {
    "direction": "rtl"
   },
   "source": [
    "כדי לפתוח קובץ זה, השתמשו בתפריט העליון כדי לגשת ל-**File** ובחר ב-**Open**. לאחר מכן תוכלו לבחור להציג, לערוך, לשנות או להוריד את הקובץ למחשבכם האישי."
   ]
  },
  {
   "cell_type": "code",
   "execution_count": null,
   "id": "c5592d99",
   "metadata": {},
   "outputs": [],
   "source": [
    "# Output to pdf file (.pdf)\n",
    "\n",
    "# File location\n",
    "# You can change the filename in quotes below to OCR a different file.\n",
    "file = \"/workspace/constellate-notebooks/data/Beirut1.jpg\"\n",
    "\n",
    "# Get a file name--without the extension-- \n",
    "# to use when we name the output file.\n",
    "fileName = file.rsplit('/', 1)[-1]\n",
    "fileName = fileName.rsplit('.', 1)[0]\n",
    "\n",
    "# Run OCR on an image file and save it as a PDF object (not file)\n",
    "# within Python.\n",
    "pdf = pytesseract.image_to_pdf_or_hocr(file, extension='pdf', lang=\"heb\")\n",
    "\n",
    "# Create a new empty pdf.\n",
    "with open(f'/workspace/constellate-notebooks/data/{fileName}.pdf', 'w+b') as f:\n",
    "    \n",
    "    # Save the PDF object to the new empty PDF file.\n",
    "    f.write(pdf)\n",
    "\n",
    "# Display a message to let us know the file has been created\n",
    "# and the script successfully completed.\n",
    "print(fileName, \"PDF successfully created.\")"
   ]
  },
  {
   "cell_type": "markdown",
   "id": "4efbb792",
   "metadata": {
    "direction": "rtl"
   },
   "source": [
    "כדי לפתוח קובץ זה, השתמשו בתפריט העליון כדי לגשת ל-**File** ובחר ב-**Open**. לאחר מכן תוכלו לבחור להציג, לערוך, לשנות או להוריד את הקובץ למחשבכם האישי."
   ]
  },
  {
   "cell_type": "code",
   "execution_count": null,
   "id": "b14990b6",
   "metadata": {},
   "outputs": [],
   "source": [
    "# Output to html file (.html)\n",
    "\n",
    "# File location\n",
    "# You can change the filename in quotes below to OCR a different file.\n",
    "file = \"/workspace/constellate-notebooks/data/Beirut1.jpg\"\n",
    "\n",
    "# Get a file name--without the extension-- \n",
    "# to use when we name the output file.\n",
    "fileName = file.rsplit('/', 1)[-1]\n",
    "fileName = fileName.rsplit('.', 1)[0]\n",
    "\n",
    "# Run OCR on an image file and save it as an HTML object (not file)\n",
    "# within Python.\n",
    "hocr = pytesseract.image_to_pdf_or_hocr(file, extension='hocr', lang='heb')\n",
    "\n",
    "# Create a new empty HTML file. Open it in \"w+b\" mode.\n",
    "# \"w+b\" is a mode that tells Python to write whatever\n",
    "# data we give to a file in binary mode--meaning that \n",
    "# it will not apply any encoding or try to translate\n",
    "# a non-ASCII character to an ASCII character.\n",
    "with open(f'/workspace/constellate-notebooks/data/{fileName}.html', 'w+b') as f:\n",
    "    \n",
    "    # Save the PDF object to the new empty PDF file.\n",
    "    f.write(hocr)\n",
    "\n",
    "# Display a message to let us know the file has been created\n",
    "# and the script successfully completed.\n",
    "print(fileName, \"HTML successfully created.\")"
   ]
  },
  {
   "cell_type": "markdown",
   "id": "579fe00a",
   "metadata": {
    "direction": "rtl"
   },
   "source": [
    "כדי לפתוח קובץ זה, השתמשו בתפריט העליון כדי לגשת ל-**File** ובחר ב-**Open**. לאחר מכן תוכלו לבחור להציג, לערוך, לשנות או להוריד את הקובץ למחשבכם האישי."
   ]
  }
 ],
 "metadata": {
  "direction": "ltr",
  "kernelspec": {
   "display_name": "Python 3",
   "language": "python",
   "name": "python3"
  },
  "language_info": {
   "codemirror_mode": {
    "name": "ipython",
    "version": 3
   },
   "file_extension": ".py",
   "mimetype": "text/x-python",
   "name": "python",
   "nbconvert_exporter": "python",
   "pygments_lexer": "ipython3",
   "version": "3.8.13"
  },
  "toc": {
   "base_numbering": 1,
   "nav_menu": {},
   "number_sections": true,
   "sideBar": true,
   "skip_h1_title": true,
   "title_cell": "Table of Contents",
   "title_sidebar": "Contents",
   "toc_cell": false,
   "toc_position": {
    "height": "calc(100% - 180px)",
    "left": "10px",
    "top": "150px",
    "width": "294px"
   },
   "toc_section_display": true,
   "toc_window_display": true
  }
 },
 "nbformat": 4,
 "nbformat_minor": 5
}
